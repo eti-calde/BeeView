{
 "cells": [
  {
   "cell_type": "markdown",
   "metadata": {},
   "source": [
    "# Recontruir la sensibilidad espectral de una cámara"
   ]
  },
  {
   "cell_type": "markdown",
   "metadata": {},
   "source": [
    "**Autor:** @eti-calde on Github - Etienne Calderón"
   ]
  },
  {
   "cell_type": "markdown",
   "metadata": {},
   "source": [
    "# Contexto\n",
    "**¿Qué es la sensiblidad espectral?**\n",
    "\n",
    "La capacidad de la cámara para capturar luz en diferentes longitudes de onda del espectro electromagnético, es decir, cómo responde la cámara a la luz de diferentes colores o frecuencias.\n",
    "\n",
    "**¿Como reconstuir la sensibilidad espectral de la cámara?**\n",
    "\n",
    "1. Emitiendo luz en **longuitudes de onda** ($\\lamda$) e **intesidades** ($I$) conocidas, gracias a la ayuda de un **(nombre del aparato)**.\n",
    "2. Sacando fotos en una grilla de longuitudes e intensidades distintas."
   ]
  },
  {
   "cell_type": "markdown",
   "metadata": {},
   "source": [
    "## Importar librerias"
   ]
  },
  {
   "cell_type": "code",
   "execution_count": 2,
   "metadata": {},
   "outputs": [],
   "source": [
    "import rawpy\n",
    "import numpy as np\n",
    "import matplotlib.pyplot as plt"
   ]
  },
  {
   "cell_type": "markdown",
   "metadata": {},
   "source": [
    "### Cargando 1 imagen"
   ]
  },
  {
   "cell_type": "code",
   "execution_count": 11,
   "metadata": {},
   "outputs": [
    {
     "ename": "AttributeError",
     "evalue": "'NoneType' object has no attribute 'dtype'",
     "output_type": "error",
     "traceback": [
      "\u001b[0;31m---------------------------------------------------------------------------\u001b[0m",
      "\u001b[0;31mAttributeError\u001b[0m                            Traceback (most recent call last)",
      "Cell \u001b[0;32mIn[11], line 3\u001b[0m\n\u001b[1;32m      1\u001b[0m imagen_crw \u001b[39m=\u001b[39m cv2\u001b[39m.\u001b[39mimread(\u001b[39m'\u001b[39m\u001b[39mazul1.CRW\u001b[39m\u001b[39m'\u001b[39m, cv2\u001b[39m.\u001b[39mIMREAD_UNCHANGED)\n\u001b[0;32m----> 3\u001b[0m \u001b[39mprint\u001b[39m(imagen_crw\u001b[39m.\u001b[39;49mdtype)\n",
      "\u001b[0;31mAttributeError\u001b[0m: 'NoneType' object has no attribute 'dtype'"
     ]
    }
   ],
   "source": [
    "# Ruta de la imagen .CRW\n",
    "ruta_imagen = 'azul1.CRW'\n",
    "\n",
    "# Abrir la imagen .CRW con rawpy\n",
    "with rawpy.imread(ruta_imagen) as raw:\n",
    "    # Obtener la imagen procesada en formato RGB\n",
    "    imagen_rgb = raw.postprocess()\n",
    "\n",
    "# Mostrar la imagen\n",
    "plt.imshow(imagen_rgb)\n",
    "plt.title('Imagen .CRW')\n",
    "plt.axis('off')\n",
    "plt.show()"
   ]
  },
  {
   "cell_type": "code",
   "execution_count": null,
   "metadata": {},
   "outputs": [],
   "source": [
    "# Coordenadas del centro del círculo\n",
    "centro_x = imagen_crw.shape[1] // 2\n",
    "centro_y = imagen_crw.shape[0] // 2\n",
    "\n",
    "# Radio del círculo (ajusta según sea necesario)\n",
    "radio = 50\n",
    "region_circular = imagen_crw[centro_y - radio:centro_y + radio, centro_x - radio:centro_x + radio]\n",
    "promedio_color = np.mean(region_circular, axis=(0, 1))"
   ]
  }
 ],
 "metadata": {
  "kernelspec": {
   "display_name": "venv",
   "language": "python",
   "name": "python3"
  },
  "language_info": {
   "codemirror_mode": {
    "name": "ipython",
    "version": 3
   },
   "file_extension": ".py",
   "mimetype": "text/x-python",
   "name": "python",
   "nbconvert_exporter": "python",
   "pygments_lexer": "ipython3",
   "version": "3.10.12"
  },
  "orig_nbformat": 4
 },
 "nbformat": 4,
 "nbformat_minor": 2
}
