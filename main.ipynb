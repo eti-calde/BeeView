{
 "cells": [
  {
   "cell_type": "markdown",
   "metadata": {},
   "source": [
    "# Recontruir la sensibilidad espectral de una cámara"
   ]
  },
  {
   "cell_type": "markdown",
   "metadata": {},
   "source": [
    "**Autor:** @eti-calde on Github - Etienne Calderón"
   ]
  },
  {
   "cell_type": "markdown",
   "metadata": {},
   "source": [
    "## Importar librerias"
   ]
  },
  {
   "cell_type": "code",
   "execution_count": 2,
   "metadata": {},
   "outputs": [],
   "source": [
    "import rawpy\n",
    "import cv2\n",
    "import numpy as np\n",
    "import matplotlib.pyplot as plt"
   ]
  },
  {
   "cell_type": "markdown",
   "metadata": {},
   "source": [
    "### Cargando 1 imagen"
   ]
  },
  {
   "cell_type": "code",
   "execution_count": 17,
   "metadata": {},
   "outputs": [
    {
     "name": "stdout",
     "output_type": "stream",
     "text": [
      "209.24, 36.24, 34.62\n"
     ]
    }
   ],
   "source": [
    "def get_colour_mean(route):\n",
    "    with rawpy.imread(route) as raw:\n",
    "        image_rgb = raw.postprocess()\n",
    "        # Coordenadas del centro del círculo\n",
    "        center_x = image_rgb.shape[1] // 2 - 50\n",
    "        center_y = image_rgb.shape[0] // 2 - 50\n",
    "\n",
    "        radius = 650\n",
    "\n",
    "        # Create a mask for the circular region\n",
    "        y, x = np.ogrid[-center_y:image_rgb.shape[0]-center_y, -center_x:image_rgb.shape[1]-center_x]\n",
    "        mask = x*x + y*y <= radius*radius\n",
    "\n",
    "        # Compute the mean of the RGB values in the circular region\n",
    "        region_circular = image_rgb[mask]\n",
    "        mean_color = np.mean(region_circular, axis=0)\n",
    "\n",
    "        return f'{mean_color[0]:.2f}, {mean_color[1]:.2f}, {mean_color[2]:.2f}'\n",
    "\n",
    "mean_color = get_colour_mean('images/700/CRW_7895.CRW')\n",
    "print(str(mean_color))"
   ]
  },
  {
   "cell_type": "markdown",
   "metadata": {},
   "source": [
    "# Cambio de nombre de los archivos"
   ]
  },
  {
   "cell_type": "code",
   "execution_count": 21,
   "metadata": {},
   "outputs": [],
   "source": [
    "import os\n",
    "import shutil\n",
    "\n",
    "def update_file_names(route, filesToRename, intialId, prefix, dest_route):\n",
    "    # Get all the files in the directory\n",
    "    files = os.listdir(route)\n",
    "    \n",
    "    # Get just the .CRW files\n",
    "    crw_files = [file for file in files if file.endswith(\".CRW\")]\n",
    "    crw_files.sort()\n",
    "\n",
    "    new_line_to_write = []\n",
    "    # Update the file names\n",
    "    for i ,crw_file in enumerate(crw_files[:filesToRename]):\n",
    "        new_id = intialId + i\n",
    "        new_name = f\"{prefix}_{new_id}.CRW\"\n",
    "        old_route = os.path.join(route, crw_file) \n",
    "        new_route = os.path.join(route, new_name)\n",
    "\n",
    "        # Rename the file\n",
    "        os.rename(old_route, new_route)\n",
    "        # Move the file to the destination directory\n",
    "        shutil.move(new_route, dest_route)\n",
    "\n",
    "        # Get the RGB values\n",
    "        rgb_values = get_colour_mean(new_route)\n",
    "        \n",
    "        # Add the old and new names to the list\n",
    "        new_line_to_write.append(f\"{crw_file},{new_name},{rgb_values}\")\n",
    "\n",
    "    # Write the new names to a file\n",
    "    new_names_file = f\"{prefix}_new_names.txt\"\n",
    "    with open(new_names_file, \"w\") as f:\n",
    "        for line in new_line_to_write:\n",
    "            f.write(line + \"\\n\")\n"
   ]
  },
  {
   "cell_type": "code",
   "execution_count": 22,
   "metadata": {},
   "outputs": [],
   "source": [
    "# 700 - 630\n",
    "update_file_names('images/700-630', 35, 1, '700nm','images/final/')\n",
    "update_file_names('images/700-630', 35, 36, '690nm','images/final/')\n",
    "# update_file_names('images/700-630', 39, 71, '680nm','images/final/')\n",
    "# update_file_names('images/700-630', 41, 110, '670nm','images/final/')\n",
    "# update_file_names('images/700-630', 77, 151, '660nm','images/final/')\n",
    "# update_file_names('images/700-630', 38, 228, '650nm','images/final/')\n",
    "# update_file_names('images/700-630', 38, 266, '640nm','images/final/')\n",
    "# update_file_names('images/700-630', 38, 304, '630nm','images/final/')"
   ]
  },
  {
   "cell_type": "code",
   "execution_count": null,
   "metadata": {},
   "outputs": [],
   "source": [
    "# 620 - 540\n",
    "# update_file_names('images/620-540', 38, 342, '620nm')\n",
    "# update_file_names('images/620-540', 38, 380, '610nm')\n",
    "# update_file_names('images/620-540', 38, 418, '600nm')\n",
    "# update_file_names('images/620-540', 38, 456, '590nm')\n",
    "# update_file_names('images/620-540', 38, 494, '580nm')\n",
    "# update_file_names('images/620-540', 38, 532, '570nm')\n",
    "# update_file_names('images/620-540', 38, 570, '560nm')\n",
    "# update_file_names('images/620-540', 38, 608, '550nm')\n",
    "# update_file_names('images/620-540', 38, 646, '540nm')"
   ]
  },
  {
   "cell_type": "code",
   "execution_count": null,
   "metadata": {},
   "outputs": [],
   "source": [
    "# # 530 - 460\n",
    "# update_file_names('images/530-460', 38, 684, '530nm')\n",
    "# update_file_names('images/530-460', 38, 722, '520nm')\n",
    "# update_file_names('images/530-460', 38, 760, '510nm')\n",
    "# update_file_names('images/530-460', 38, 798, '500nm')\n",
    "# update_file_names('images/530-460', 37, 836, '490nm')\n",
    "# update_file_names('images/530-460', 37, 873, '480nm')\n",
    "# update_file_names('images/530-460', 36, 910, '470nm')\n",
    "# update_file_names('images/530-460', 37, 946, '460nm')"
   ]
  },
  {
   "cell_type": "code",
   "execution_count": null,
   "metadata": {},
   "outputs": [],
   "source": [
    "# # 450 - 380\n",
    "# update_file_names('images/450-380', 37, 983, '450nm')\n",
    "# update_file_names('images/450-380', 37, 1020, '440nm')\n",
    "# update_file_names('images/450-380', 37, 1057, '430nm')\n",
    "# update_file_names('images/450-380', 37, 1094, '420nm')\n",
    "# update_file_names('images/450-380', 37, 1131, '410nm')\n",
    "# update_file_names('images/450-380', 39, 1168, '400nm')\n",
    "# update_file_names('images/450-380', 43, 1207, '390nm')\n",
    "# update_file_names('images/450-380', 46, 1250, '380nm')"
   ]
  },
  {
   "cell_type": "code",
   "execution_count": null,
   "metadata": {},
   "outputs": [],
   "source": [
    "# # 370 - 300\n",
    "# update_file_names('images/370-300', 53, 1296, '370nm')\n",
    "# update_file_names('images/370-300', 45, 1349, '360nm')\n",
    "# update_file_names('images/370-300', 48, 1394, '350nm')\n",
    "# update_file_names('images/370-300', 39, 1442, '340nm')\n",
    "# update_file_names('images/370-300', 33, 1481, '330nm')\n",
    "# update_file_names('images/370-300', 33, 1514, '320nm')\n",
    "# update_file_names('images/370-300', 35, 1547, '310nm')\n",
    "# update_file_names('images/370-300', 35, 1582, '300nm')"
   ]
  }
 ],
 "metadata": {
  "kernelspec": {
   "display_name": "venv",
   "language": "python",
   "name": "python3"
  },
  "language_info": {
   "codemirror_mode": {
    "name": "ipython",
    "version": 3
   },
   "file_extension": ".py",
   "mimetype": "text/x-python",
   "name": "python",
   "nbconvert_exporter": "python",
   "pygments_lexer": "ipython3",
   "version": "3.10.12"
  },
  "orig_nbformat": 4
 },
 "nbformat": 4,
 "nbformat_minor": 2
}
